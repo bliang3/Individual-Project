{
 "cells": [
  {
   "cell_type": "code",
   "execution_count": 7,
   "metadata": {
    "collapsed": true
   },
   "outputs": [],
   "source": [
    "import math\n",
    "import random\n",
    "from queue import Queue\n",
    "\n",
    "import matplotlib.pyplot as plt\n",
    "import matplotlib.patches as patches\n",
    "\n",
    "import matplotlib.colors as colors\n",
    "\n",
    "# I create a class for each rectangle, containing the left bottom point as starting point, \n",
    "# the width and the height of each rectangle.\n",
    "class Rect:\n",
    "    def __init__(self, x, y, width, height):\n",
    "        self.x = x\n",
    "        self.y = y\n",
    "        self.width = width\n",
    "        self.height = height\n",
    "        self.area = width * height"
   ]
  },
  {
   "cell_type": "code",
   "execution_count": 8,
   "metadata": {
    "collapsed": true
   },
   "outputs": [],
   "source": [
    "# Assign the color of rectangle in this order\n",
    "colors =\"bgrcmykw\" "
   ]
  },
  {
   "cell_type": "code",
   "execution_count": 9,
   "metadata": {
    "collapsed": true
   },
   "outputs": [],
   "source": [
    "# This function is used to find if two rectangles intersect or not\n",
    "def isOverlap(r1, r2):\n",
    "    if r1.x + r1.width <= r2.x or r2.x + r2.width <= r1.x or r1.y + r1.height <= r2.y or r2.y + r2.height <= r1.y:\n",
    "        return False\n",
    "    else:\n",
    "        return True"
   ]
  },
  {
   "cell_type": "code",
   "execution_count": 10,
   "metadata": {
    "collapsed": true
   },
   "outputs": [],
   "source": [
    "# This function is used to draw specific rectangles when other functions call it.\n",
    "# The first parameter specifies which figure will be plotted. The second and third parameters specify the size of \n",
    "# canvas to be painted. The fourth parameter is a list containing all of rectangles needed to paint on the canvas. The \n",
    "# fifth parameter is either a new coming rectangle or null. This parameter is designed because I need to paint the canvas \n",
    "# before the new rectangle is trimmed and the canvas after trimming.\n",
    "def draw_rec(i, width, height, generatedRec, p3):\n",
    "    arec = [] # Contains the rectangles ready to be painted\n",
    "    idx = 0\n",
    "    for rr in generatedRec:\n",
    "        tmp1 = plt.Rectangle((rr.x, rr.y), rr.width, rr.height,edgecolor=colors[idx%8],linewidth=3,facecolor=colors[idx%8], alpha=0.1)\n",
    "        arec.append(tmp1)\n",
    "        idx += 1\n",
    "    \n",
    "    # Add the new coming rectangle into list if it is not null\n",
    "    if p3 != None:\n",
    "        tmp2 = plt.Rectangle((p3.x, p3.y), p3.width, p3.height, edgecolor=colors[idx%8],linewidth=3, facecolor=colors[idx % 8],alpha=0.1)\n",
    "        arec.append(tmp2)\n",
    "\n",
    "    fig = plt.figure(i)\n",
    "    ax = fig.add_subplot(111)\n",
    "\n",
    "    plt.xlim((0, width))\n",
    "    plt.ylim((0, height))\n",
    "    for ik in arec:\n",
    "        ax.add_patch(ik)\n",
    "\n",
    "    if p3 != None:\n",
    "        plt.title('New tower comes')\n",
    "    else:\n",
    "        plt.title('After trimming')\n",
    "    plt.show()"
   ]
  },
  {
   "cell_type": "code",
   "execution_count": 11,
   "metadata": {
    "collapsed": true
   },
   "outputs": [],
   "source": [
    "# This function contains main logic and algorithm of this project. This function generates the rectangle and trims \n",
    "# this new rectangle.\n",
    "# The first two parameters are the size of the canvas which is set by the user, and the third parameter is the number\n",
    "# of tower that the user wants to create.\n",
    "def RecGenerate(width, height, amount = 5):\n",
    "    generatedRec=[] # Contains all of the rectangles that have been generated and trimmed. \n",
    "    i = 0           # Indicates how many rectangles have been generated and the index of new generated rectangle\n",
    "    \n",
    "    area = 0\n",
    "    # The while loop will not end until the target number of rectangles has been achieved.\n",
    "    while i < amount:\n",
    "        # Generate a new random rectangle. I don't choose random.randomInt() since random.sample() can offer me different \n",
    "        # random values in every loop.\n",
    "        a_s = random.sample(range(1, width), 1)\n",
    "        b_s = random.sample(range(1, height), 1)\n",
    "        start_x_s = random.sample(range(1, width), 1)\n",
    "        start_y_s = random.sample(range(1, height), 1)\n",
    "        a = a_s[0]\n",
    "        b = b_s[0]\n",
    "        start_x = start_x_s[0]\n",
    "        start_y = start_y_s[0]\n",
    "        \n",
    "        # The commented code below is the example provided in the assignment set.\n",
    "        \n",
    "        # a_s = [4, 3, 3, 6, 9]\n",
    "        # b_s = [3, 2, 3, 6, 1]\n",
    "        # start_x_s = [0, 2, 3, 2, 1]\n",
    "        # start_y_s = [0, 2, 1, 2, 6]\n",
    "        # a = a_s[i]\n",
    "        # b = b_s[i]\n",
    "        # start_x = start_x_s[i]\n",
    "        # start_y = start_y_s[i]\n",
    "    \n",
    "        if start_x + a <= width and start_y + b <= height:\n",
    "            p3 = Rect(start_x, start_y, a, b) # new rectangle\n",
    "            if i != 0:\n",
    "                draw_rec(2*i, width, height, generatedRec, p3)\n",
    "            print(p3.x, p3.y, p3.width, p3.height)\n",
    "            # The first rectangle doesn't have to be trimmed\n",
    "            if len(generatedRec) == 0:\n",
    "                generatedRec.append(p3)\n",
    "                i = i + 1\n",
    "                area += p3.area # update the occupied area\n",
    "            else:\n",
    "                # Use a queue to store each rectangle candidate\n",
    "                queue = Queue() \n",
    "                queue.put(p3)\n",
    "                # New coming rectangle needs to be trimmed after comparing with the rectangles generated before\n",
    "                for p1 in generatedRec:\n",
    "                    qsize = queue.qsize() # Store the size of queue so that each candidate knows which rectangle \n",
    "                                          # to compare\n",
    "                    t = 0\n",
    "                    while t < qsize:\n",
    "                        p3 = queue.get()\n",
    "                        # Trim the new rectangle. For this part, a document has been written in the github repo\n",
    "                        if isOverlap(p3, p1):\n",
    "                            if p1.x <= p3.x and p1.x+p1.width <= p3.x+p3.width and p1.y >= p3.y and p1.y+p1.height >= p3.y+p3.height:\n",
    "                                r1 = Rect(p1.x+p1.width, p3.y, p3.x+p3.width-p1.x-p1.width, p3.height)\n",
    "                                r2 = Rect(p3.x, p3.y, p3.width, p1.y-p3.y)\n",
    "                                queue.put(r1) # Put the candidate into the queue\n",
    "                                queue.put(r2)\n",
    "                            elif p1.x <= p3.x and p1.x+p1.width <= p3.x+p3.width and p1.y <= p3.y and p1.y+p1.height <= p3.y+p3.height:\n",
    "                                r1 = Rect(p3.x, p1.y+p1.height, p3.width, p3.y+p3.height-p1.y-p1.height)\n",
    "                                r2 = Rect(p1.x+p1.width, p3.y, p3.x+p3.width-p1.x-p1.width, p3.height)\n",
    "                                queue.put(r1)\n",
    "                                queue.put(r2)\n",
    "                            elif p1.x >= p3.x and p1.x+p1.width >= p3.x+p3.width and p1.y <= p3.y and p1.y+p1.height <= p3.y+p3.height:\n",
    "                                r1 = Rect(p3.x, p3.y, p1.x-p3.x, p3.height)\n",
    "                                r2 = Rect(p3.x, p1.y+p1.height, p3.width, p3.y+p3.height-p1.y-p1.height)\n",
    "                                queue.put(r1)\n",
    "                                queue.put(r2)\n",
    "                            elif p1.x >= p3.x and p1.x+p1.width >= p3.x+p3.width and p1.y >= p3.y and p1.y+p1.height >= p3.y+p3.height:\n",
    "                                r1 = Rect(p3.x, p3.y, p1.x-p3.x, p3.height)\n",
    "                                r2 = Rect(p3.x, p3.y, p3.width, p1.y - p3.y)\n",
    "                                queue.put(r1)\n",
    "                                queue.put(r2)\n",
    "                            elif p1.x <= p3.x and p1.x+p1.width >= p3.x+p3.width and p1.y >= p3.y and p1.y+p1.height >= p3.y+p3.height:\n",
    "                                r = Rect(p3.x, p3.y, p3.width, p1.y-p3.y)\n",
    "                                queue.put(r)\n",
    "                            elif p1.x <= p3.x and p1.x+p1.width >= p3.x+p3.width and p1.y <= p3.y and p1.y+p1.height <= p3.y+p3.height:\n",
    "                                r = Rect(p3.x, p1.y+p1.height, p3.width, p3.y+p3.height-p1.y-p1.height)\n",
    "                                queue.put(r)\n",
    "                            elif p1.x >= p3.x and p1.x+p1.width >= p3.x+p3.width and p1.y <= p3.y and p1.y+p1.height >= p3.y+p3.height:\n",
    "                                r = Rect(p3.x, p3.y, p1.x-p3.x, p3.height)\n",
    "                                queue.put(r)\n",
    "                            elif p1.x <= p3.x and p1.x+p1.width <= p3.x+p3.width and p1.y <= p3.y and p1.y+p1.height >= p3.y+p3.height:\n",
    "                                r = Rect(p1.x+p1.width, p3.y, p3.x+p3.width-p1.x-p1.width, p3.height)\n",
    "                                queue.put(r)\n",
    "                            elif p1.x <= p3.x and p1.x+p1.width >= p3.x+p3.width and p1.y <= p3.y and p1.y+p1.height >= p3.y+p3.height:\n",
    "                                r = None\n",
    "                                print('Unfortunately. New rectangle has been merged.')\n",
    "                            elif p1.x >= p3.x and p1.x+p1.width <= p3.x+p3.width and p1.y >= p3.y and p1.y+p1.height <= p3.y+p3.height:\n",
    "                                r1 = Rect(p3.x, p1.y+p1.height, p3.width, p3.y+p3.height-p1.y-p1.height)\n",
    "                                r2 = Rect(p1.x+p1.width, p3.y, p3.x+p3.width-p1.x-p1.width, p3.height)\n",
    "                                r3 = Rect(p3.x, p3.y, p3.width, p1.y-p3.y)\n",
    "                                r4 = Rect(p3.x, p3.y, p1.x-p3.x, p3.height)\n",
    "                                queue.put(r1)\n",
    "                                queue.put(r2)\n",
    "                                queue.put(r3)\n",
    "                                queue.put(r4)\n",
    "                            elif p1.x <= p3.x and p1.x+p1.width >= p3.x+p3.width and p1.y >= p3.y and p1.y+p1.height <= p3.y+p3.height:\n",
    "                                r1 = Rect(p3.x, p3.y, p3.width, p1.y-p3.y)\n",
    "                                r2 = Rect(p3.x, p1.y+p1.height, p3.width, p3.y+p3.height-p1.y-p1.height)\n",
    "                                queue.put(r1)\n",
    "                                queue.put(r2)\n",
    "                            elif p1.x >= p3.x and p1.x+p1.width <= p3.x+p3.width and p1.y <= p3.y and p1.y+p1.height >= p3.y+p3.height:\n",
    "                                r1 = Rect(p3.x, p3.y, p1.x-p3.x, p3.height)\n",
    "                                r2 = Rect(p1.x+p1.width, p3.y, p3.x+p3.width-p1.x-p1.width, p3.height)\n",
    "                                queue.put(r1)\n",
    "                                queue.put(r2)\n",
    "                            elif p1.x <= p3.x and p1.x+p1.width <= p3.x+p3.width and p1.y >= p3.y and p1.y+p1.height <= p3.y+p3.height:\n",
    "                                r1 = Rect(p3.x, p1.y+p1.height, p3.width, p3.y+p3.height-p1.y-p1.height)\n",
    "                                r2 = Rect(p3.x, p3.y, p3.width, p1.y-p3.y)\n",
    "                                r3 = Rect(p1.x+p1.width, p3.y, p3.x+p3.width-p1.x-p1.width, p3.height)\n",
    "                                queue.put(r1)\n",
    "                                queue.put(r2)\n",
    "                                queue.put(r3)\n",
    "                            elif p1.x >= p3.x and p1.x+p1.width <= p3.x+p3.width and p1.y <= p3.y and p1.y+p1.height <= p3.y+p3.height:\n",
    "                                r1 = Rect(p3.x, p3.y, p1.x-p3.x, p3.height)\n",
    "                                r2 = Rect(p3.x, p1.y+p1.height, p3.width, p3.y+p3.height-p1.y-p1.height)\n",
    "                                r3 = Rect(p1.x+p1.width, p3.y, p3.x+p3.width-p1.x-p1.width, p3.height)\n",
    "                                queue.put(r1)\n",
    "                                queue.put(r2)\n",
    "                                queue.put(r3)\n",
    "                            elif p1.x >= p3.x and p1.x+p1.width >= p3.x+p3.width and p1.y >= p3.y and p1.y+p1.height <= p3.y+p3.height:\n",
    "                                r1 = Rect(p3.x, p1.y+p1.height, p3.width, p3.y+p3.height-p1.y-p1.height)\n",
    "                                r2 = Rect(p3.x, p3.y, p1.x-p3.x, p3.height)\n",
    "                                r3 = Rect(p3.x, p3.y, p3.width, p1.y-p3.y)\n",
    "                                queue.put(r1)\n",
    "                                queue.put(r2)\n",
    "                                queue.put(r3)\n",
    "                            elif p1.x >= p3.x and p1.x+p1.width <= p3.x+p3.width and p1.y >= p3.y and p1.y+p1.height >= p3.y+p3.height:\n",
    "                                r1 = Rect(p3.x, p3.y, p1.x-p3.x, p3.height)\n",
    "                                r2 = Rect(p3.x, p3.y, p3.width, p1.y-p3.y)\n",
    "                                r3 = Rect(p1.x+p1.width, p3.y, p3.x+p3.width-p1.x-p1.width, p3.height)\n",
    "                                queue.put(r1)\n",
    "                                queue.put(r2)\n",
    "                                queue.put(r3)\n",
    "                            else:\n",
    "                                print('Splitting goes wrong.')\n",
    "\n",
    "                        else: # No overlap\n",
    "                            queue.put(p3)\n",
    "                        t += 1\n",
    "\n",
    "                i = i + 1 # i used for tracking how many rectangles have been saved\n",
    "                r = Rect(0,0,0,0)\n",
    "                # Pick a candidate rectangle which has maximum area\n",
    "                while not queue.empty():\n",
    "                    r_tmp = queue.get()\n",
    "                    if r_tmp.area >= r.area:\n",
    "                        r = r_tmp\n",
    "\n",
    "                area += r.area\n",
    "                generatedRec.append(r)\n",
    "                print('revised is ', r.x, r.y, r.width, r.height)\n",
    "\n",
    "            draw_rec(2*i-1, width, height, generatedRec, None)\n",
    "        # Random generated width or height goes beyond the border\n",
    "        else:\n",
    "            print('Index out of bound. Generate one more time.')\n",
    "    return area"
   ]
  },
  {
   "cell_type": "code",
   "execution_count": 15,
   "metadata": {},
   "outputs": [
    {
     "name": "stdout",
     "output_type": "stream",
     "text": [
      "Index out of bound. Generate one more time.\n",
      "Index out of bound. Generate one more time.\n",
      "Index out of bound. Generate one more time.\n",
      "Index out of bound. Generate one more time.\n",
      "Index out of bound. Generate one more time.\n",
      "Index out of bound. Generate one more time.\n",
      "Index out of bound. Generate one more time.\n",
      "6 9 3 1\n"
     ]
    },
    {
     "data": {
      "image/png": "[encoded data removed]",
      "text/plain": [
       "<matplotlib.figure.Figure at 0x7fc404542b00>"
      ]
     },
     "metadata": {},
     "output_type": "display_data"
    },
    {
     "name": "stdout",
     "output_type": "stream",
     "text": [
      "Index out of bound. Generate one more time.\n"
     ]
    },
    {
     "data": {
      "image/png": "[encoded data removed]",
      "text/plain": [
       "<matplotlib.figure.Figure at 0x7fc40476ea58>"
      ]
     },
     "metadata": {},
     "output_type": "display_data"
    },
    {
     "name": "stdout",
     "output_type": "stream",
     "text": [
      "2 5 6 2\n",
      "revised is  2 5 6 2\n"
     ]
    },
    {
     "data": {
      "image/png": "[encoded data removed]",
      "text/plain": [
       "<matplotlib.figure.Figure at 0x7fc40476ae10>"
      ]
     },
     "metadata": {},
     "output_type": "display_data"
    },
    {
     "name": "stdout",
     "output_type": "stream",
     "text": [
      "Index out of bound. Generate one more time.\n"
     ]
    },
    {
     "data": {
      "image/png": "[encoded data removed]",
      "text/plain": [
       "<matplotlib.figure.Figure at 0x7fc4046f0438>"
      ]
     },
     "metadata": {},
     "output_type": "display_data"
    },
    {
     "name": "stdout",
     "output_type": "stream",
     "text": [
      "2 1 8 6\n",
      "revised is  2 1 8 4\n"
     ]
    },
    {
     "data": {
      "image/png": "[encoded data removed]",
      "text/plain": [
       "<matplotlib.figure.Figure at 0x7fc404714be0>"
      ]
     },
     "metadata": {},
     "output_type": "display_data"
    },
    {
     "name": "stdout",
     "output_type": "stream",
     "text": [
      "Index out of bound. Generate one more time.\n",
      "Index out of bound. Generate one more time.\n",
      "Index out of bound. Generate one more time.\n",
      "Index out of bound. Generate one more time.\n",
      "Index out of bound. Generate one more time.\n"
     ]
    },
    {
     "data": {
      "image/png": "[encoded data removed]",
      "text/plain": [
       "<matplotlib.figure.Figure at 0x7fc4044aa7f0>"
      ]
     },
     "metadata": {},
     "output_type": "display_data"
    },
    {
     "name": "stdout",
     "output_type": "stream",
     "text": [
      "4 3 1 5\n",
      "revised is  4 7 1 1\n"
     ]
    },
    {
     "data": {
      "image/png": "[encoded data removed]",
      "text/plain": [
       "<matplotlib.figure.Figure at 0x7fc4044b2f60>"
      ]
     },
     "metadata": {},
     "output_type": "display_data"
    },
    {
     "data": {
      "image/png": "[encoded data removed]",
      "text/plain": [
       "<matplotlib.figure.Figure at 0x7fc404500940>"
      ]
     },
     "metadata": {},
     "output_type": "display_data"
    },
    {
     "name": "stdout",
     "output_type": "stream",
     "text": [
      "5 3 1 1\n",
      "Unfortunately. New rectangle has been merged.\n",
      "revised is  0 0 0 0\n"
     ]
    },
    {
     "data": {
      "image/png": "[encoded data removed]",
      "text/plain": [
       "<matplotlib.figure.Figure at 0x7fc404886b70>"
      ]
     },
     "metadata": {},
     "output_type": "display_data"
    },
    {
     "name": "stdout",
     "output_type": "stream",
     "text": [
      "Index out of bound. Generate one more time.\n"
     ]
    },
    {
     "data": {
      "image/png": "[encoded data removed]",
      "text/plain": [
       "<matplotlib.figure.Figure at 0x7fc404b752e8>"
      ]
     },
     "metadata": {},
     "output_type": "display_data"
    },
    {
     "name": "stdout",
     "output_type": "stream",
     "text": [
      "6 3 4 7\n",
      "revised is  8 5 2 4\n"
     ]
    },
    {
     "data": {
      "image/png": "[encoded data removed]",
      "text/plain": [
       "<matplotlib.figure.Figure at 0x7fc404742588>"
      ]
     },
     "metadata": {},
     "output_type": "display_data"
    },
    {
     "name": "stdout",
     "output_type": "stream",
     "text": [
      "The total area of coverage is  56\n",
      "Still have gaps!\n"
     ]
    }
   ],
   "source": [
    "# First question:\n",
    "\n",
    "# Given an overall desired coverage footprint and a sequence of n communications\n",
    "# towers, what is the resulting resolved coverage?\n",
    "\n",
    "# The user can call this function to get the resulting resolved coverage. In particular, the first and the second\n",
    "# parameters are the length and width of the space, and the third parameter is how many communication towers the user \n",
    "# wants to have. Since the result is visualized in the end, the user can clearly see the result after calling the \n",
    "# function like the one I provided below.\n",
    "totalArea = RecGenerate(10, 10, 6)\n",
    "\n",
    "# Second question:\n",
    "\n",
    "# What is the total area of coverage relative to the desired total coverage area of the\n",
    "# original footprint? That is, are there any gaps in coverage?\n",
    "\n",
    "# The total area is obtained when we have a number returned by the calling function. By comparing total area \n",
    "# returned from the function and total area of space, we can know if there is any gaps left. If they are equal,\n",
    "# no gaps left; otherwise, there is gaps inside the space. In the code below, I use 10*10 as the space area, since I\n",
    "# I called the function by using 10 as width and 10 as length of the space. \n",
    "print('The total area of coverage is ', totalArea)\n",
    "\n",
    "if totalArea == 10*10:\n",
    "    print('No gaps in coverage!')\n",
    "else:\n",
    "    print('Still have gaps!')"
   ]
  },
  {
   "cell_type": "code",
   "execution_count": null,
   "metadata": {
    "collapsed": true
   },
   "outputs": [],
   "source": [
    "# On average, how many communications towers are required before full coverage is\n",
    "# obtained?\n",
    "\n",
    "# Answer: This answer can be various. In average, I have n*n/2 towers to cover the whole space."
   ]
  }
 ],
 "metadata": {
  "kernelspec": {
   "display_name": "Python 3",
   "language": "python",
   "name": "python3"
  },
  "language_info": {
   "codemirror_mode": {
    "name": "ipython",
    "version": 3
   },
   "file_extension": ".py",
   "mimetype": "text/x-python",
   "name": "python",
   "nbconvert_exporter": "python",
   "pygments_lexer": "ipython3",
   "version": "3.6.1"
  }
 },
 "nbformat": 4,
 "nbformat_minor": 2
}
